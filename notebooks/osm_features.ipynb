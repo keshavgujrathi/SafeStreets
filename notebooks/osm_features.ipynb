{
 "cells": [
  {
   "cell_type": "code",
   "execution_count": null,
   "id": "1ad35c55",
   "metadata": {},
   "outputs": [],
   "source": [
    "import sys, os\n",
    "sys.path.append(os.path.abspath(\"..\"))\n",
    "\n",
    "from scripts.osm_features import extract_features"
   ]
  },
  {
   "cell_type": "code",
   "execution_count": 6,
   "id": "6667d0e3",
   "metadata": {},
   "outputs": [
    {
     "name": "stdout",
     "output_type": "stream",
     "text": [
      "✅ Saved processed CSV: data/processed/bengaluru_segments.csv ((15406, 9))\n"
     ]
    },
    {
     "data": {
      "text/html": [
       "<div>\n",
       "<style scoped>\n",
       "    .dataframe tbody tr th:only-of-type {\n",
       "        vertical-align: middle;\n",
       "    }\n",
       "\n",
       "    .dataframe tbody tr th {\n",
       "        vertical-align: top;\n",
       "    }\n",
       "\n",
       "    .dataframe thead th {\n",
       "        text-align: right;\n",
       "    }\n",
       "</style>\n",
       "<table border=\"1\" class=\"dataframe\">\n",
       "  <thead>\n",
       "    <tr style=\"text-align: right;\">\n",
       "      <th></th>\n",
       "      <th>id</th>\n",
       "      <th>highway</th>\n",
       "      <th>maxspeed</th>\n",
       "      <th>lit</th>\n",
       "      <th>sidewalk</th>\n",
       "      <th>n_nodes</th>\n",
       "      <th>lat</th>\n",
       "      <th>lon</th>\n",
       "      <th>safety_score</th>\n",
       "    </tr>\n",
       "  </thead>\n",
       "  <tbody>\n",
       "    <tr>\n",
       "      <th>0</th>\n",
       "      <td>4354938</td>\n",
       "      <td>service</td>\n",
       "      <td>None</td>\n",
       "      <td>None</td>\n",
       "      <td>None</td>\n",
       "      <td>7</td>\n",
       "      <td>12.989564</td>\n",
       "      <td>77.635497</td>\n",
       "      <td>50</td>\n",
       "    </tr>\n",
       "    <tr>\n",
       "      <th>1</th>\n",
       "      <td>4354952</td>\n",
       "      <td>footway</td>\n",
       "      <td>None</td>\n",
       "      <td>no</td>\n",
       "      <td>None</td>\n",
       "      <td>35</td>\n",
       "      <td>12.982976</td>\n",
       "      <td>77.618213</td>\n",
       "      <td>40</td>\n",
       "    </tr>\n",
       "    <tr>\n",
       "      <th>2</th>\n",
       "      <td>8294886</td>\n",
       "      <td>tertiary</td>\n",
       "      <td>None</td>\n",
       "      <td>None</td>\n",
       "      <td>None</td>\n",
       "      <td>5</td>\n",
       "      <td>12.984123</td>\n",
       "      <td>77.578232</td>\n",
       "      <td>55</td>\n",
       "    </tr>\n",
       "    <tr>\n",
       "      <th>3</th>\n",
       "      <td>8680571</td>\n",
       "      <td>secondary</td>\n",
       "      <td>None</td>\n",
       "      <td>None</td>\n",
       "      <td>separate</td>\n",
       "      <td>26</td>\n",
       "      <td>12.948910</td>\n",
       "      <td>77.620187</td>\n",
       "      <td>50</td>\n",
       "    </tr>\n",
       "    <tr>\n",
       "      <th>4</th>\n",
       "      <td>8681388</td>\n",
       "      <td>primary</td>\n",
       "      <td>None</td>\n",
       "      <td>yes</td>\n",
       "      <td>None</td>\n",
       "      <td>15</td>\n",
       "      <td>12.966133</td>\n",
       "      <td>77.615168</td>\n",
       "      <td>65</td>\n",
       "    </tr>\n",
       "  </tbody>\n",
       "</table>\n",
       "</div>"
      ],
      "text/plain": [
       "        id    highway maxspeed   lit  sidewalk  n_nodes        lat        lon  \\\n",
       "0  4354938    service     None  None      None        7  12.989564  77.635497   \n",
       "1  4354952    footway     None    no      None       35  12.982976  77.618213   \n",
       "2  8294886   tertiary     None  None      None        5  12.984123  77.578232   \n",
       "3  8680571  secondary     None  None  separate       26  12.948910  77.620187   \n",
       "4  8681388    primary     None   yes      None       15  12.966133  77.615168   \n",
       "\n",
       "   safety_score  \n",
       "0            50  \n",
       "1            40  \n",
       "2            55  \n",
       "3            50  \n",
       "4            65  "
      ]
     },
     "execution_count": 6,
     "metadata": {},
     "output_type": "execute_result"
    }
   ],
   "source": [
    "from scripts.osm_features import extract_features\n",
    "\n",
    "# Run the feature extraction pipeline\n",
    "df = extract_features(\"data/raw/osm_bengaluru.json\",\n",
    "                      \"data/processed/bengaluru_segments.csv\")\n",
    "\n",
    "df.head()\n"
   ]
  }
 ],
 "metadata": {
  "kernelspec": {
   "display_name": "Python 3",
   "language": "python",
   "name": "python3"
  },
  "language_info": {
   "codemirror_mode": {
    "name": "ipython",
    "version": 3
   },
   "file_extension": ".py",
   "mimetype": "text/x-python",
   "name": "python",
   "nbconvert_exporter": "python",
   "pygments_lexer": "ipython3",
   "version": "3.13.5"
  }
 },
 "nbformat": 4,
 "nbformat_minor": 5
}
